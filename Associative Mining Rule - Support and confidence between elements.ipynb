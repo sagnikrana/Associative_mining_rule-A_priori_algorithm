{
 "cells": [
  {
   "cell_type": "markdown",
   "metadata": {},
   "source": [
    "### Associative mining rule"
   ]
  },
  {
   "cell_type": "markdown",
   "metadata": {},
   "source": [
    "Association rule mining is a technique to identify underlying relations between different items. Take an example of a Super Market where customers can buy variety of items. Usually, there is a pattern in what the customers buy. For instance, mothers with babies buy baby products such as milk and diapers. Damsels may buy makeup items whereas bachelors may buy beers and chips etc. In short, transactions involve a pattern. More profit can be generated if the relationship between the items purchased in different transactions can be identified.\n",
    "\n",
    "For instance, if item A and B are bought together more frequently then several steps can be taken to increase the profit. For example:\n",
    "\n",
    "A and B can be placed together so that when a customer buys one of the product he doesn't have to go far away to buy the other product.\n",
    "People who buy one of the products can be targeted through an advertisement campaign to buy the other.\n",
    "Collective discounts can be offered on these products if the customer buys both of them.\n",
    "Both A and B can be packaged together.\n",
    "The process of identifying an associations between products is called association rule mining. <br><br>\n",
    "  taken from \"stackabuse.com\""
   ]
  },
  {
   "cell_type": "code",
   "execution_count": 38,
   "metadata": {},
   "outputs": [],
   "source": [
    "import pandas as pd\n",
    "import numpy as np\n",
    "import matplotlib as plt\n",
    "import seaborn as sns\n",
    "from itertools import combinations"
   ]
  },
  {
   "cell_type": "code",
   "execution_count": 60,
   "metadata": {},
   "outputs": [
    {
     "data": {
      "text/html": [
       "<div>\n",
       "<style scoped>\n",
       "    .dataframe tbody tr th:only-of-type {\n",
       "        vertical-align: middle;\n",
       "    }\n",
       "\n",
       "    .dataframe tbody tr th {\n",
       "        vertical-align: top;\n",
       "    }\n",
       "\n",
       "    .dataframe thead th {\n",
       "        text-align: right;\n",
       "    }\n",
       "</style>\n",
       "<table border=\"1\" class=\"dataframe\">\n",
       "  <thead>\n",
       "    <tr style=\"text-align: right;\">\n",
       "      <th></th>\n",
       "      <th>0</th>\n",
       "      <th>1</th>\n",
       "      <th>2</th>\n",
       "      <th>3</th>\n",
       "    </tr>\n",
       "  </thead>\n",
       "  <tbody>\n",
       "    <tr>\n",
       "      <td>0</td>\n",
       "      <td>apple</td>\n",
       "      <td>beer</td>\n",
       "      <td>rice</td>\n",
       "      <td>chicken</td>\n",
       "    </tr>\n",
       "    <tr>\n",
       "      <td>1</td>\n",
       "      <td>apple</td>\n",
       "      <td>beer</td>\n",
       "      <td>rice</td>\n",
       "      <td>NA</td>\n",
       "    </tr>\n",
       "    <tr>\n",
       "      <td>2</td>\n",
       "      <td>apple</td>\n",
       "      <td>beer</td>\n",
       "      <td>NA</td>\n",
       "      <td>NA</td>\n",
       "    </tr>\n",
       "    <tr>\n",
       "      <td>3</td>\n",
       "      <td>apple</td>\n",
       "      <td>mango</td>\n",
       "      <td>NA</td>\n",
       "      <td>NA</td>\n",
       "    </tr>\n",
       "    <tr>\n",
       "      <td>4</td>\n",
       "      <td>milk</td>\n",
       "      <td>beer</td>\n",
       "      <td>rice</td>\n",
       "      <td>chicken</td>\n",
       "    </tr>\n",
       "    <tr>\n",
       "      <td>5</td>\n",
       "      <td>milk</td>\n",
       "      <td>beer</td>\n",
       "      <td>rice</td>\n",
       "      <td>NA</td>\n",
       "    </tr>\n",
       "    <tr>\n",
       "      <td>6</td>\n",
       "      <td>milk</td>\n",
       "      <td>beer</td>\n",
       "      <td>NA</td>\n",
       "      <td>NA</td>\n",
       "    </tr>\n",
       "    <tr>\n",
       "      <td>7</td>\n",
       "      <td>milk</td>\n",
       "      <td>mango</td>\n",
       "      <td>NA</td>\n",
       "      <td>NA</td>\n",
       "    </tr>\n",
       "  </tbody>\n",
       "</table>\n",
       "</div>"
      ],
      "text/plain": [
       "       0      1     2        3\n",
       "0  apple   beer  rice  chicken\n",
       "1  apple   beer  rice       NA\n",
       "2  apple   beer    NA       NA\n",
       "3  apple  mango    NA       NA\n",
       "4   milk   beer  rice  chicken\n",
       "5   milk   beer  rice       NA\n",
       "6   milk   beer    NA       NA\n",
       "7   milk  mango    NA       NA"
      ]
     },
     "execution_count": 60,
     "metadata": {},
     "output_type": "execute_result"
    }
   ],
   "source": [
    "data = pd.read_csv(\"data/items.csv\", header = 'infer')\n",
    "\n",
    "# Resolvig the column names into the numeric ones\n",
    "for index,col in enumerate(list(data.columns)):\n",
    "    data.rename(columns = {col:index}, inplace = True)\n",
    "\n",
    "data.fillna(\"NA\", inplace = True)\n",
    "column_list = list(data.columns)\n",
    "data"
   ]
  },
  {
   "cell_type": "markdown",
   "metadata": {},
   "source": [
    "#### Finding all the possible unique pairs which appeared in respective baskets:\n",
    "Assumption - duplicate items will not be repeated in the same row"
   ]
  },
  {
   "cell_type": "code",
   "execution_count": 121,
   "metadata": {},
   "outputs": [],
   "source": [
    "pairwise_info = {}\n",
    "item_info = {}\n",
    "\n",
    "for rownum,row in data.iterrows():\n",
    "    temp = []\n",
    "    for col in column_list:\n",
    "        if row[col] != 'NA':\n",
    "            temp.append(row[col])\n",
    "    pairs_per_row =  [sorted(item) for item in combinations(temp, 2)]\n",
    "    for pair_list in pairs_per_row:\n",
    "        pair_name = \"\"\n",
    "        for index,pair in enumerate(pair_list):\n",
    "            if pair not in item_info:\n",
    "                item_info[pair] = [rownum]\n",
    "            else:\n",
    "                if rownum not in item_info[pair]:\n",
    "                    item_info[pair].append(rownum)\n",
    "            if index == 0:\n",
    "                pair_name = pair\n",
    "            else:\n",
    "                pair_name = pair_name + \"+\" + pair\n",
    "                \n",
    "        if pair_name not in pairwise_info:\n",
    "            pairwise_info[pair_name] = [rownum]\n",
    "        else:\n",
    "            pairwise_info[pair_name].append(rownum)"
   ]
  },
  {
   "cell_type": "markdown",
   "metadata": {},
   "source": [
    "### Support <br>\n",
    "This is the percentage of orders that contains the item set. In the example above, there are 5 orders in total and {apple,egg} occurs in 3 of them, so:\n",
    "\n",
    "             support{apple,egg} = 3/5 or 60%\n",
    "\n",
    "The minimum support threshold required by apriori can be set based on knowledge of your domain. In this grocery dataset for example, since there could be thousands of distinct items and an order can contain only a small fraction of these items, setting the support threshold to 0.01% may be reasonable."
   ]
  },
  {
   "cell_type": "markdown",
   "metadata": {},
   "source": [
    "#### Calculating support for all the pairs"
   ]
  },
  {
   "cell_type": "code",
   "execution_count": 132,
   "metadata": {},
   "outputs": [],
   "source": [
    "item_list = []\n",
    "support_list = []\n",
    "for item in pairwise_info.items():\n",
    "    item_list.append(item[0])\n",
    "    support_list.append(len(pairwise_info[item[0]]) / len(data))"
   ]
  },
  {
   "cell_type": "code",
   "execution_count": 142,
   "metadata": {},
   "outputs": [
    {
     "data": {
      "text/html": [
       "<div>\n",
       "<style scoped>\n",
       "    .dataframe tbody tr th:only-of-type {\n",
       "        vertical-align: middle;\n",
       "    }\n",
       "\n",
       "    .dataframe tbody tr th {\n",
       "        vertical-align: top;\n",
       "    }\n",
       "\n",
       "    .dataframe thead th {\n",
       "        text-align: right;\n",
       "    }\n",
       "</style>\n",
       "<table border=\"1\" class=\"dataframe\">\n",
       "  <thead>\n",
       "    <tr style=\"text-align: right;\">\n",
       "      <th></th>\n",
       "      <th>Support Value</th>\n",
       "    </tr>\n",
       "  </thead>\n",
       "  <tbody>\n",
       "    <tr>\n",
       "      <td>apple+beer</td>\n",
       "      <td>0.375</td>\n",
       "    </tr>\n",
       "    <tr>\n",
       "      <td>apple+rice</td>\n",
       "      <td>0.250</td>\n",
       "    </tr>\n",
       "    <tr>\n",
       "      <td>apple+chicken</td>\n",
       "      <td>0.125</td>\n",
       "    </tr>\n",
       "    <tr>\n",
       "      <td>beer+rice</td>\n",
       "      <td>0.500</td>\n",
       "    </tr>\n",
       "    <tr>\n",
       "      <td>beer+chicken</td>\n",
       "      <td>0.250</td>\n",
       "    </tr>\n",
       "    <tr>\n",
       "      <td>chicken+rice</td>\n",
       "      <td>0.250</td>\n",
       "    </tr>\n",
       "    <tr>\n",
       "      <td>apple+mango</td>\n",
       "      <td>0.125</td>\n",
       "    </tr>\n",
       "    <tr>\n",
       "      <td>beer+milk</td>\n",
       "      <td>0.375</td>\n",
       "    </tr>\n",
       "    <tr>\n",
       "      <td>milk+rice</td>\n",
       "      <td>0.250</td>\n",
       "    </tr>\n",
       "    <tr>\n",
       "      <td>chicken+milk</td>\n",
       "      <td>0.125</td>\n",
       "    </tr>\n",
       "    <tr>\n",
       "      <td>mango+milk</td>\n",
       "      <td>0.125</td>\n",
       "    </tr>\n",
       "  </tbody>\n",
       "</table>\n",
       "</div>"
      ],
      "text/plain": [
       "               Support Value\n",
       "apple+beer             0.375\n",
       "apple+rice             0.250\n",
       "apple+chicken          0.125\n",
       "beer+rice              0.500\n",
       "beer+chicken           0.250\n",
       "chicken+rice           0.250\n",
       "apple+mango            0.125\n",
       "beer+milk              0.375\n",
       "milk+rice              0.250\n",
       "chicken+milk           0.125\n",
       "mango+milk             0.125"
      ]
     },
     "execution_count": 142,
     "metadata": {},
     "output_type": "execute_result"
    }
   ],
   "source": [
    "pd.DataFrame(support_list,item_list, columns = ['Support Value'])"
   ]
  },
  {
   "cell_type": "code",
   "execution_count": null,
   "metadata": {},
   "outputs": [],
   "source": []
  }
 ],
 "metadata": {
  "kernelspec": {
   "display_name": "Python 3",
   "language": "python",
   "name": "python3"
  },
  "language_info": {
   "codemirror_mode": {
    "name": "ipython",
    "version": 3
   },
   "file_extension": ".py",
   "mimetype": "text/x-python",
   "name": "python",
   "nbconvert_exporter": "python",
   "pygments_lexer": "ipython3",
   "version": "3.7.3"
  }
 },
 "nbformat": 4,
 "nbformat_minor": 2
}
