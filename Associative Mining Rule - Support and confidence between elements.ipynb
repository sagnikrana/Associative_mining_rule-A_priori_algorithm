{
 "cells": [
  {
   "cell_type": "markdown",
   "metadata": {},
   "source": [
    "### Associative mining rule"
   ]
  },
  {
   "cell_type": "markdown",
   "metadata": {},
   "source": [
    "Association rule mining is a technique to identify underlying relations between different items. Take an example of a Super Market where customers can buy variety of items. Usually, there is a pattern in what the customers buy. For instance, mothers with babies buy baby products such as milk and diapers. Damsels may buy makeup items whereas bachelors may buy beers and chips etc. In short, transactions involve a pattern. More profit can be generated if the relationship between the items purchased in different transactions can be identified.\n",
    "\n",
    "For instance, if item A and B are bought together more frequently then several steps can be taken to increase the profit. For example:\n",
    "\n",
    "A and B can be placed together so that when a customer buys one of the product he doesn't have to go far away to buy the other product.\n",
    "People who buy one of the products can be targeted through an advertisement campaign to buy the other.\n",
    "Collective discounts can be offered on these products if the customer buys both of them.\n",
    "Both A and B can be packaged together.\n",
    "The process of identifying an associations between products is called association rule mining. <br><br>\n",
    "  taken from \"stackabuse.com\""
   ]
  },
  {
   "cell_type": "code",
   "execution_count": 38,
   "metadata": {},
   "outputs": [],
   "source": [
    "import pandas as pd\n",
    "import numpy as np\n",
    "import matplotlib as plt\n",
    "import seaborn as sns\n",
    "from itertools import combinations"
   ]
  },
  {
   "cell_type": "code",
   "execution_count": 60,
   "metadata": {},
   "outputs": [
    {
     "data": {
      "text/html": [
       "<div>\n",
       "<style scoped>\n",
       "    .dataframe tbody tr th:only-of-type {\n",
       "        vertical-align: middle;\n",
       "    }\n",
       "\n",
       "    .dataframe tbody tr th {\n",
       "        vertical-align: top;\n",
       "    }\n",
       "\n",
       "    .dataframe thead th {\n",
       "        text-align: right;\n",
       "    }\n",
       "</style>\n",
       "<table border=\"1\" class=\"dataframe\">\n",
       "  <thead>\n",
       "    <tr style=\"text-align: right;\">\n",
       "      <th></th>\n",
       "      <th>0</th>\n",
       "      <th>1</th>\n",
       "      <th>2</th>\n",
       "      <th>3</th>\n",
       "    </tr>\n",
       "  </thead>\n",
       "  <tbody>\n",
       "    <tr>\n",
       "      <td>0</td>\n",
       "      <td>apple</td>\n",
       "      <td>beer</td>\n",
       "      <td>rice</td>\n",
       "      <td>chicken</td>\n",
       "    </tr>\n",
       "    <tr>\n",
       "      <td>1</td>\n",
       "      <td>apple</td>\n",
       "      <td>beer</td>\n",
       "      <td>rice</td>\n",
       "      <td>NA</td>\n",
       "    </tr>\n",
       "    <tr>\n",
       "      <td>2</td>\n",
       "      <td>apple</td>\n",
       "      <td>beer</td>\n",
       "      <td>NA</td>\n",
       "      <td>NA</td>\n",
       "    </tr>\n",
       "    <tr>\n",
       "      <td>3</td>\n",
       "      <td>apple</td>\n",
       "      <td>mango</td>\n",
       "      <td>NA</td>\n",
       "      <td>NA</td>\n",
       "    </tr>\n",
       "    <tr>\n",
       "      <td>4</td>\n",
       "      <td>milk</td>\n",
       "      <td>beer</td>\n",
       "      <td>rice</td>\n",
       "      <td>chicken</td>\n",
       "    </tr>\n",
       "    <tr>\n",
       "      <td>5</td>\n",
       "      <td>milk</td>\n",
       "      <td>beer</td>\n",
       "      <td>rice</td>\n",
       "      <td>NA</td>\n",
       "    </tr>\n",
       "    <tr>\n",
       "      <td>6</td>\n",
       "      <td>milk</td>\n",
       "      <td>beer</td>\n",
       "      <td>NA</td>\n",
       "      <td>NA</td>\n",
       "    </tr>\n",
       "    <tr>\n",
       "      <td>7</td>\n",
       "      <td>milk</td>\n",
       "      <td>mango</td>\n",
       "      <td>NA</td>\n",
       "      <td>NA</td>\n",
       "    </tr>\n",
       "  </tbody>\n",
       "</table>\n",
       "</div>"
      ],
      "text/plain": [
       "       0      1     2        3\n",
       "0  apple   beer  rice  chicken\n",
       "1  apple   beer  rice       NA\n",
       "2  apple   beer    NA       NA\n",
       "3  apple  mango    NA       NA\n",
       "4   milk   beer  rice  chicken\n",
       "5   milk   beer  rice       NA\n",
       "6   milk   beer    NA       NA\n",
       "7   milk  mango    NA       NA"
      ]
     },
     "execution_count": 60,
     "metadata": {},
     "output_type": "execute_result"
    }
   ],
   "source": [
    "data = pd.read_csv(\"data/items.csv\", header = 'infer')\n",
    "\n",
    "# Resolvig the column names into the numeric ones\n",
    "for index,col in enumerate(list(data.columns)):\n",
    "    data.rename(columns = {col:index}, inplace = True)\n",
    "\n",
    "data.fillna(\"NA\", inplace = True)\n",
    "column_list = list(data.columns)\n",
    "data"
   ]
  },
  {
   "cell_type": "markdown",
   "metadata": {},
   "source": [
    "#### Finding all the possible unique pairs:\n",
    "Assumption - duplicate items will not be repeated in the same row"
   ]
  },
  {
   "cell_type": "code",
   "execution_count": 69,
   "metadata": {},
   "outputs": [
    {
     "name": "stdout",
     "output_type": "stream",
     "text": [
      "[['apple,beer'], ['apple,rice'], ['apple,chicken'], ['beer,rice'], ['beer,chicken'], ['rice,chicken']]\n",
      "[['apple,beer'], ['apple,rice'], ['beer,rice']]\n",
      "[['apple,beer']]\n",
      "[['apple,mango']]\n",
      "[['milk,beer'], ['milk,rice'], ['milk,chicken'], ['beer,rice'], ['beer,chicken'], ['rice,chicken']]\n",
      "[['milk,beer'], ['milk,rice'], ['beer,rice']]\n",
      "[['milk,beer']]\n",
      "[['milk,mango']]\n"
     ]
    }
   ],
   "source": [
    "pairwise_info = {}\n",
    "for index,row in data.iterrows():\n",
    "    temp = []\n",
    "    for col in column_list:\n",
    "        if row[col] != 'NA':\n",
    "            temp.append(row[col])\n",
    "    print([sorted(item) for item in combinations(a, 2)])"
   ]
  },
  {
   "cell_type": "markdown",
   "metadata": {},
   "source": [
    "### Support <br>\n",
    "This is the percentage of orders that contains the item set. In the example above, there are 5 orders in total and {apple,egg} occurs in 3 of them, so:\n",
    "\n",
    "             support{apple,egg} = 3/5 or 60%\n",
    "\n",
    "The minimum support threshold required by apriori can be set based on knowledge of your domain. In this grocery dataset for example, since there could be thousands of distinct items and an order can contain only a small fraction of these items, setting the support threshold to 0.01% may be reasonable."
   ]
  }
 ],
 "metadata": {
  "kernelspec": {
   "display_name": "Python 3",
   "language": "python",
   "name": "python3"
  },
  "language_info": {
   "codemirror_mode": {
    "name": "ipython",
    "version": 3
   },
   "file_extension": ".py",
   "mimetype": "text/x-python",
   "name": "python",
   "nbconvert_exporter": "python",
   "pygments_lexer": "ipython3",
   "version": "3.7.3"
  }
 },
 "nbformat": 4,
 "nbformat_minor": 2
}
